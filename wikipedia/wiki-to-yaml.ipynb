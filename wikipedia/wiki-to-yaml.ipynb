{
 "metadata": {
  "name": ""
 },
 "nbformat": 3,
 "nbformat_minor": 0,
 "worksheets": [
  {
   "cells": [
    {
     "cell_type": "code",
     "collapsed": false,
     "input": [
      "import urllib\n",
      "from urllib2 import urlopen\n",
      "import urllib2\n",
      "import time\n",
      "import wikipedia\n",
      "from bs4 import BeautifulSoup\n",
      "import yaml\n",
      "import json\n",
      "import sys"
     ],
     "language": "python",
     "metadata": {},
     "outputs": [],
     "prompt_number": 401
    },
    {
     "cell_type": "code",
     "collapsed": false,
     "input": [
      "names = []\n",
      "data = []\n",
      "\n",
      "with open(\"people-list-copy.yaml\", \"r\") as yaml_file:\n",
      "    entries = yaml_file.read().splitlines()\n",
      "    \n",
      "    num = 0\n",
      "    for e in entries:\n",
      "        e.strip(\"- \")\n",
      "        names.append(e) #append names to list\n",
      "        num += 1\n",
      "#     print num\n",
      "\n",
      "#create dictionary to store whether source exists for the person\n",
      "val_keys = sources = [\"Wikipedia\", \"Center for Data Science NYU\"] #add to this as run each scraper\n",
      "source_dict = dict(zip(val_keys, [False]*len(val_keys))) #set all values as false\n",
      "\n",
      "all_d = []\n",
      "i = 0\n",
      "j = 0\n",
      "for n in names[0:1]:\n",
      "    d = {n: source_dict}\n",
      "    all_d.append(d)\n",
      "    #print all_d  # e.g. {Paul Glimcher : {\"Wikipedia\": False, \"Center for Data Science NYU\": False}}\n",
      "    try:\n",
      "        pageurl = urllib.urlopen(\"http://en.wikipedia.org/wiki/\" + n)        \n",
      "        title = wikipedia.page(n)\n",
      "        summary = title.summary\n",
      "        categs = title.categories\n",
      "        outlinks = title.links\n",
      "        sections = title.sections\n",
      "        refs = title.references\n",
      "        content = title.content\n",
      "        imageurl = title.images\n",
      "        # print p + \" has wiki\"\n",
      "    \n",
      "        #set wikipedia value in dictionary to true\n",
      "        source_dict.update({\"Wikipedia\":True})\n",
      "        i += 1\n",
      "        data.append({'pageurl': str(pageurl), 'title': str(title), 'url': pageurl.read(), 'summary': str(summary),\n",
      "                     'categories': str(categs), 'outlinks': str(outlinks),'sections': str(sections),\n",
      "                     'references': refs,'content': content, 'imageurl': imageurl})\n",
      "        \n",
      "    except wikipedia.exceptions.DisambiguationError as e: #if reach this, they aren't on wikipedia\n",
      "        #print e.options \n",
      "#         print p + \" no wiki\"\n",
      "        j += 0\n",
      "        pass\n",
      "    except wikipedia.exceptions.PageError as pe:\n",
      "#       print p + \" no wiki\"\n",
      "        pass\n",
      "\n",
      "with open(p + '-wiki.yaml', 'w') as outfile:\n",
      "    outfile.write( yaml.dump(data, default_flow_style=False) )\n",
      "    print \"finished!\"\n"
     ],
     "language": "python",
     "metadata": {},
     "outputs": [
      {
       "output_type": "stream",
       "stream": "stdout",
       "text": [
        "84\n",
        "hereeee!"
       ]
      },
      {
       "output_type": "stream",
       "stream": "stdout",
       "text": [
        "\n"
       ]
      }
     ],
     "prompt_number": 403
    },
    {
     "cell_type": "code",
     "collapsed": false,
     "input": [],
     "language": "python",
     "metadata": {},
     "outputs": []
    },
    {
     "cell_type": "code",
     "collapsed": false,
     "input": [],
     "language": "python",
     "metadata": {},
     "outputs": []
    },
    {
     "cell_type": "code",
     "collapsed": false,
     "input": [],
     "language": "python",
     "metadata": {},
     "outputs": []
    },
    {
     "cell_type": "code",
     "collapsed": false,
     "input": [],
     "language": "python",
     "metadata": {},
     "outputs": []
    },
    {
     "cell_type": "code",
     "collapsed": false,
     "input": [],
     "language": "python",
     "metadata": {},
     "outputs": []
    }
   ],
   "metadata": {}
  }
 ]
}
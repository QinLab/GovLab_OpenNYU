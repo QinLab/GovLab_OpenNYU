{
 "metadata": {
  "name": ""
 },
 "nbformat": 3,
 "nbformat_minor": 0,
 "worksheets": [
  {
   "cells": [
    {
     "cell_type": "code",
     "collapsed": false,
     "input": [
      "import urllib\n",
      "from urllib2 import urlopen\n",
      "import time\n",
      "import wikipedia\n",
      "from bs4 import BeautifulSoup\n",
      "import yaml\n",
      "import json"
     ],
     "language": "python",
     "metadata": {},
     "outputs": [],
     "prompt_number": 208
    },
    {
     "cell_type": "code",
     "collapsed": false,
     "input": [
      "people = []\n",
      "with open(\"people-list-copy.yaml\", \"r\") as yaml_file:\n",
      "    entries = yaml_file.read().splitlines()\n",
      "    \n",
      "    num = 0\n",
      "    for e in entries:\n",
      "        people.append(e) #append names to list\n",
      "        num += 1\n",
      "    print num\n",
      "    \n",
      "for p in people:\n",
      "    p.strip(\"- \")\n",
      "\n",
      "\n",
      "#create dictionary to store whether source exists for the person\n",
      "val_keys = sources = [\"Wikipedia\", \"Center for Data Science NYU\"] #add to this as run each scraper\n",
      "source_dict = dict(zip(val_keys, [False]*len(val_keys))) #set all values as false\n",
      "\n",
      "# all_d = []\n",
      "# for p in people:\n",
      "#     d = {p: source_dict}\n",
      "#     all_d.append(d)\n",
      "#     print all_d  # e.g. {Paul Glimcher : {\"Wikipedia\": False, \"Center for Data Science NYU\": False}}\n",
      "\n",
      "for p in people[0:10]:\n",
      "    d = {p: source_dict}\n",
      "    \n",
      "    try:\n",
      "        url = urllib.urlopen(\"http://en.wikipedia.org/wiki/\" + str(p))\n",
      "        title = wikipedia.page(p)\n",
      "        print p + \" has wiki\"\n",
      "        \n",
      "#         soup = BeautifulSoup(urlopen(url))\n",
      "#         page_content = soup.find(id = 'content')\n",
      "# #         name = page_content.find('h1', id = 'firstHeading').text\n",
      "# #         words = count_words(page_content.find(id = 'mw-content-text'))\n",
      "#         print page_content\n",
      "# #     print 'Done ' + name\n",
      "        \n",
      "    except wikipedia.exceptions.PageError(p):\n",
      "        print p + \" no wiki\"\n",
      "        continue\n",
      "\n",
      "\n",
      "\n",
      "# print wikipedia.summary(\"Wikipedia\")\n",
      "\n"
     ],
     "language": "python",
     "metadata": {},
     "outputs": [
      {
       "output_type": "stream",
       "stream": "stdout",
       "text": [
        "84\n",
        "- S. R. Srinivasa Varadhan has wiki"
       ]
      },
      {
       "output_type": "stream",
       "stream": "stdout",
       "text": [
        "\n",
        "- David W. Hogg has wiki"
       ]
      },
      {
       "output_type": "stream",
       "stream": "stdout",
       "text": [
        "\n",
        "- Juliana Freire has wiki"
       ]
      },
      {
       "output_type": "stream",
       "stream": "stdout",
       "text": [
        "\n",
        "- Roy Lowrance has wiki"
       ]
      },
      {
       "output_type": "stream",
       "stream": "stdout",
       "text": [
        "\n",
        "- Rebecca Liebe has wiki"
       ]
      },
      {
       "ename": "DisambiguationError",
       "evalue": "\"David Clark\" may refer to: \nDave Clark (Canadian musician)\nDavid Clark (guitar player)\nDave Clark (musician)\nDave Clark (promoter)\nDavid Clark, Baron Clark of Windermere\nDave Clark (Canadian politician)\nDavid C. Clark\nDavid Clark (Utah politician)\nDavid Worth Clark\nDavid Clark (New Zealand politician)\nDave Clark (baseball)\nDavid Clark (cricketer)\nDavid Clark (racing driver)\nDavid Clark (rower)\nDavid Clark (rugby union)\nDave Clark (television presenter)\nDavid K. Clark\nDavid Clark\nMidnight (DC Comics)\nDavid Clark (cartoonist)\nDavid Aaron Clark\nDavid D. Clark\nDavid Delano Clark\nDavid L. Clark\nDavid Worth Clark\nDavid Hazell Clark\nDavid M. Clark\nMastermind\nDavid Clark Company\nThe Dave Clark Five\nDavid Clarke (disambiguation)",
       "output_type": "pyerr",
       "traceback": [
        "\u001b[0;31m---------------------------------------------------------------------------\u001b[0m\n\u001b[0;31mDisambiguationError\u001b[0m                       Traceback (most recent call last)",
        "\u001b[0;32m<ipython-input-213-1f83c8490a46>\u001b[0m in \u001b[0;36m<module>\u001b[0;34m()\u001b[0m\n\u001b[1;32m     28\u001b[0m     \u001b[0;32mtry\u001b[0m\u001b[0;34m:\u001b[0m\u001b[0;34m\u001b[0m\u001b[0m\n\u001b[1;32m     29\u001b[0m         \u001b[0murl\u001b[0m \u001b[0;34m=\u001b[0m \u001b[0murllib\u001b[0m\u001b[0;34m.\u001b[0m\u001b[0murlopen\u001b[0m\u001b[0;34m(\u001b[0m\u001b[0;34m\"http://en.wikipedia.org/wiki/\"\u001b[0m \u001b[0;34m+\u001b[0m \u001b[0mstr\u001b[0m\u001b[0;34m(\u001b[0m\u001b[0mp\u001b[0m\u001b[0;34m)\u001b[0m\u001b[0;34m)\u001b[0m\u001b[0;34m\u001b[0m\u001b[0m\n\u001b[0;32m---> 30\u001b[0;31m         \u001b[0mtitle\u001b[0m \u001b[0;34m=\u001b[0m \u001b[0mwikipedia\u001b[0m\u001b[0;34m.\u001b[0m\u001b[0mpage\u001b[0m\u001b[0;34m(\u001b[0m\u001b[0mp\u001b[0m\u001b[0;34m)\u001b[0m\u001b[0;34m\u001b[0m\u001b[0m\n\u001b[0m\u001b[1;32m     31\u001b[0m         \u001b[0;32mprint\u001b[0m \u001b[0mp\u001b[0m \u001b[0;34m+\u001b[0m \u001b[0;34m\" has wiki\"\u001b[0m\u001b[0;34m\u001b[0m\u001b[0m\n\u001b[1;32m     32\u001b[0m \u001b[0;34m\u001b[0m\u001b[0m\n",
        "\u001b[0;32m/Library/Python/2.7/site-packages/wikipedia/wikipedia.pyc\u001b[0m in \u001b[0;36mpage\u001b[0;34m(title, pageid, auto_suggest, redirect, preload)\u001b[0m\n\u001b[1;32m    274\u001b[0m         \u001b[0;31m# if there is no suggestion or search results, the page doesn't exist\u001b[0m\u001b[0;34m\u001b[0m\u001b[0;34m\u001b[0m\u001b[0m\n\u001b[1;32m    275\u001b[0m         \u001b[0;32mraise\u001b[0m \u001b[0mPageError\u001b[0m\u001b[0;34m(\u001b[0m\u001b[0mtitle\u001b[0m\u001b[0;34m)\u001b[0m\u001b[0;34m\u001b[0m\u001b[0m\n\u001b[0;32m--> 276\u001b[0;31m     \u001b[0;32mreturn\u001b[0m \u001b[0mWikipediaPage\u001b[0m\u001b[0;34m(\u001b[0m\u001b[0mtitle\u001b[0m\u001b[0;34m,\u001b[0m \u001b[0mredirect\u001b[0m\u001b[0;34m=\u001b[0m\u001b[0mredirect\u001b[0m\u001b[0;34m,\u001b[0m \u001b[0mpreload\u001b[0m\u001b[0;34m=\u001b[0m\u001b[0mpreload\u001b[0m\u001b[0;34m)\u001b[0m\u001b[0;34m\u001b[0m\u001b[0m\n\u001b[0m\u001b[1;32m    277\u001b[0m   \u001b[0;32melif\u001b[0m \u001b[0mpageid\u001b[0m \u001b[0;32mis\u001b[0m \u001b[0;32mnot\u001b[0m \u001b[0mNone\u001b[0m\u001b[0;34m:\u001b[0m\u001b[0;34m\u001b[0m\u001b[0m\n\u001b[1;32m    278\u001b[0m     \u001b[0;32mreturn\u001b[0m \u001b[0mWikipediaPage\u001b[0m\u001b[0;34m(\u001b[0m\u001b[0mpageid\u001b[0m\u001b[0;34m=\u001b[0m\u001b[0mpageid\u001b[0m\u001b[0;34m,\u001b[0m \u001b[0mpreload\u001b[0m\u001b[0;34m=\u001b[0m\u001b[0mpreload\u001b[0m\u001b[0;34m)\u001b[0m\u001b[0;34m\u001b[0m\u001b[0m\n",
        "\u001b[0;32m/Library/Python/2.7/site-packages/wikipedia/wikipedia.pyc\u001b[0m in \u001b[0;36m__init__\u001b[0;34m(self, title, pageid, redirect, preload, original_title)\u001b[0m\n\u001b[1;32m    297\u001b[0m       \u001b[0;32mraise\u001b[0m \u001b[0mValueError\u001b[0m\u001b[0;34m(\u001b[0m\u001b[0;34m\"Either a title or a pageid must be specified\"\u001b[0m\u001b[0;34m)\u001b[0m\u001b[0;34m\u001b[0m\u001b[0m\n\u001b[1;32m    298\u001b[0m \u001b[0;34m\u001b[0m\u001b[0m\n\u001b[0;32m--> 299\u001b[0;31m     \u001b[0mself\u001b[0m\u001b[0;34m.\u001b[0m\u001b[0m__load\u001b[0m\u001b[0;34m(\u001b[0m\u001b[0mredirect\u001b[0m\u001b[0;34m=\u001b[0m\u001b[0mredirect\u001b[0m\u001b[0;34m,\u001b[0m \u001b[0mpreload\u001b[0m\u001b[0;34m=\u001b[0m\u001b[0mpreload\u001b[0m\u001b[0;34m)\u001b[0m\u001b[0;34m\u001b[0m\u001b[0m\n\u001b[0m\u001b[1;32m    300\u001b[0m \u001b[0;34m\u001b[0m\u001b[0m\n\u001b[1;32m    301\u001b[0m     \u001b[0;32mif\u001b[0m \u001b[0mpreload\u001b[0m\u001b[0;34m:\u001b[0m\u001b[0;34m\u001b[0m\u001b[0m\n",
        "\u001b[0;32m/Library/Python/2.7/site-packages/wikipedia/wikipedia.pyc\u001b[0m in \u001b[0;36m__load\u001b[0;34m(self, redirect, preload)\u001b[0m\n\u001b[1;32m    391\u001b[0m       \u001b[0mmay_refer_to\u001b[0m \u001b[0;34m=\u001b[0m \u001b[0;34m[\u001b[0m\u001b[0mli\u001b[0m\u001b[0;34m.\u001b[0m\u001b[0ma\u001b[0m\u001b[0;34m.\u001b[0m\u001b[0mget_text\u001b[0m\u001b[0;34m(\u001b[0m\u001b[0;34m)\u001b[0m \u001b[0;32mfor\u001b[0m \u001b[0mli\u001b[0m \u001b[0;32min\u001b[0m \u001b[0mfiltered_lis\u001b[0m \u001b[0;32mif\u001b[0m \u001b[0mli\u001b[0m\u001b[0;34m.\u001b[0m\u001b[0ma\u001b[0m\u001b[0;34m]\u001b[0m\u001b[0;34m\u001b[0m\u001b[0m\n\u001b[1;32m    392\u001b[0m \u001b[0;34m\u001b[0m\u001b[0m\n\u001b[0;32m--> 393\u001b[0;31m       \u001b[0;32mraise\u001b[0m \u001b[0mDisambiguationError\u001b[0m\u001b[0;34m(\u001b[0m\u001b[0mgetattr\u001b[0m\u001b[0;34m(\u001b[0m\u001b[0mself\u001b[0m\u001b[0;34m,\u001b[0m \u001b[0;34m'title'\u001b[0m\u001b[0;34m,\u001b[0m \u001b[0mpage\u001b[0m\u001b[0;34m[\u001b[0m\u001b[0;34m'title'\u001b[0m\u001b[0;34m]\u001b[0m\u001b[0;34m)\u001b[0m\u001b[0;34m,\u001b[0m \u001b[0mmay_refer_to\u001b[0m\u001b[0;34m)\u001b[0m\u001b[0;34m\u001b[0m\u001b[0m\n\u001b[0m\u001b[1;32m    394\u001b[0m \u001b[0;34m\u001b[0m\u001b[0m\n\u001b[1;32m    395\u001b[0m     \u001b[0;32melse\u001b[0m\u001b[0;34m:\u001b[0m\u001b[0;34m\u001b[0m\u001b[0m\n",
        "\u001b[0;31mDisambiguationError\u001b[0m: \"David Clark\" may refer to: \nDave Clark (Canadian musician)\nDavid Clark (guitar player)\nDave Clark (musician)\nDave Clark (promoter)\nDavid Clark, Baron Clark of Windermere\nDave Clark (Canadian politician)\nDavid C. Clark\nDavid Clark (Utah politician)\nDavid Worth Clark\nDavid Clark (New Zealand politician)\nDave Clark (baseball)\nDavid Clark (cricketer)\nDavid Clark (racing driver)\nDavid Clark (rower)\nDavid Clark (rugby union)\nDave Clark (television presenter)\nDavid K. Clark\nDavid Clark\nMidnight (DC Comics)\nDavid Clark (cartoonist)\nDavid Aaron Clark\nDavid D. Clark\nDavid Delano Clark\nDavid L. Clark\nDavid Worth Clark\nDavid Hazell Clark\nDavid M. Clark\nMastermind\nDavid Clark Company\nThe Dave Clark Five\nDavid Clarke (disambiguation)"
       ]
      },
      {
       "output_type": "stream",
       "stream": "stdout",
       "text": [
        "\n"
       ]
      }
     ],
     "prompt_number": 213
    },
    {
     "cell_type": "code",
     "collapsed": false,
     "input": [
      "# #create list of names from yaml file\n",
      "# queries = []\n",
      "# \n",
      "#     queries.append(yaml_file.read())\n",
      "#     print \"reached here0\"\n",
      "\n",
      "# for q in queries:\n",
      "#     try:\n",
      "#         url = urllib.urlopen(\"http://en.wikipedia.org/wiki/\" + str(q))\n",
      "#         title = wikipedia.page(q)\n",
      "#         print \"reached here1\"\n",
      "#     except IndexError:\n",
      "#         raise PageError(title)"
     ],
     "language": "python",
     "metadata": {},
     "outputs": []
    },
    {
     "cell_type": "code",
     "collapsed": false,
     "input": [
      "# try:\n",
      "#     query = \"Paul Glimcher\"\n",
      "#     url = urllib.urlopen(\"http://en.wikipedia.org/wiki/\" + query) #fetch page for topic\n",
      "#     title = wikipedia.page(query)\n",
      "#     print title\n",
      "#     summary = title.summary\n",
      "#     categ = title.categories\n",
      "#     links = title.links\n",
      "#     sections = title.sections\n",
      "#     print \"sections: \" + sections\n",
      "#     suggestions = title.suggest\n",
      "#     print suggestions\n",
      "#     content = title.content\n",
      "#     print content\n",
      "    \n",
      "# except:\n",
      "# #     print \"Page not found for \" + query + \". Try another query.\"\n",
      "#      pass"
     ],
     "language": "python",
     "metadata": {},
     "outputs": []
    },
    {
     "cell_type": "code",
     "collapsed": false,
     "input": [],
     "language": "python",
     "metadata": {},
     "outputs": []
    },
    {
     "cell_type": "code",
     "collapsed": false,
     "input": [],
     "language": "python",
     "metadata": {},
     "outputs": []
    }
   ],
   "metadata": {}
  }
 ]
}
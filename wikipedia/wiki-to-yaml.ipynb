{
 "metadata": {
  "name": ""
 },
 "nbformat": 3,
 "nbformat_minor": 0,
 "worksheets": [
  {
   "cells": [
    {
     "cell_type": "code",
     "collapsed": false,
     "input": [
      "import urllib\n",
      "import time\n",
      "import wikipedia #https://wikipedia.readthedocs.org/en/latest/code.html\n",
      "from bs4 import BeautifulSoup\n",
      "import yaml\n",
      "import json"
     ],
     "language": "python",
     "metadata": {},
     "outputs": [],
     "prompt_number": 97
    },
    {
     "cell_type": "code",
     "collapsed": false,
     "input": [
      "# #create list of names from yaml file\n",
      "# queries = []\n",
      "# with open(\"people-list-copy.yaml\", \"r\") as yaml_file:\n",
      "#     queries.append(yaml_file.read())\n",
      "#     print \"reached here0\"\n",
      "\n",
      "# for q in queries:\n",
      "#     try:\n",
      "#         url = urllib.urlopen(\"http://en.wikipedia.org/wiki/\" + str(q))\n",
      "#         title = wikipedia.page(q)\n",
      "#         print \"reached here1\"\n",
      "#     except IndexError:\n",
      "#         raise PageError(title)"
     ],
     "language": "python",
     "metadata": {},
     "outputs": [],
     "prompt_number": 98
    },
    {
     "cell_type": "code",
     "collapsed": false,
     "input": [
      "try:\n",
      "    query = \"Paul Glimcher\"\n",
      "    url = urllib.urlopen(\"http://en.wikipedia.org/wiki/\" + query) #fetch page for topic\n",
      "    title = wikipedia.page(query)\n",
      "    print title\n",
      "    summary = title.summary\n",
      "    categ = title.categories\n",
      "    links = title.links\n",
      "    sections = title.sections\n",
      "    print \"sections: \" + sections\n",
      "    suggestions = title.suggest\n",
      "    print suggestions\n",
      "    content = title.content\n",
      "    print content\n",
      "    \n",
      "except:\n",
      "#     print \"Page not found for \" + query + \". Try another query.\"\n",
      "     pass"
     ],
     "language": "python",
     "metadata": {},
     "outputs": [
      {
       "output_type": "stream",
       "stream": "stdout",
       "text": [
        "<WikipediaPage 'Paul Glimcher'>\n"
       ]
      }
     ],
     "prompt_number": 105
    },
    {
     "cell_type": "code",
     "collapsed": false,
     "input": [],
     "language": "python",
     "metadata": {},
     "outputs": [],
     "prompt_number": 105
    },
    {
     "cell_type": "code",
     "collapsed": false,
     "input": [],
     "language": "python",
     "metadata": {},
     "outputs": []
    }
   ],
   "metadata": {}
  }
 ]
}